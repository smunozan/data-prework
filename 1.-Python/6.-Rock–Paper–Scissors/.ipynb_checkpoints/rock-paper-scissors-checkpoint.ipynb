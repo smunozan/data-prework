{
 "cells": [
  {
   "cell_type": "markdown",
   "metadata": {},
   "source": [
    "<img src=\"https://bit.ly/2VnXWr2\" width=\"100\" align=\"left\">"
   ]
  },
  {
   "cell_type": "markdown",
   "metadata": {},
   "source": [
    "# Rock, Paper & Scissors\n",
    "\n",
    "Let's play the famous game against our computer. You can check the rules [here](https://en.wikipedia.org/wiki/Rock%E2%80%93paper%E2%80%93scissors). \n",
    "\n",
    "## Task\n",
    "Create a program that imitates the playability of the well known game of rock, paper, scissors. Follow the guidelines provided.\n",
    "\n",
    "## Tools\n",
    "1. Loop: **for/while**\n",
    "2. Functions: **input(), print()...**\n",
    "3. Conditional statements: **if, elif, else**\n",
    "4. Definition of functions. Modular programming\n",
    "5. Import modules\n",
    "\n",
    "**To solve this challenge, the use of functions is recommended.**\n",
    "\n",
    "#### 1. Import the choice function of the random module."
   ]
  },
  {
   "cell_type": "code",
   "execution_count": 1,
   "metadata": {},
   "outputs": [],
   "source": [
    "import random"
   ]
  },
  {
   "cell_type": "markdown",
   "metadata": {},
   "source": [
    "#### 2. Create a list that includes the 3 possible gesture options of the game: 'rock', 'paper' or 'scissors'. Store the list in a variable called `gestures`."
   ]
  },
  {
   "cell_type": "code",
   "execution_count": 2,
   "metadata": {},
   "outputs": [],
   "source": [
    "gestures = [\"rock\",\"paper\",\"scissors\"]"
   ]
  },
  {
   "cell_type": "markdown",
   "metadata": {},
   "source": [
    "#### 3. Create a variable called `n_rounds` to store the maximum number of rounds to play in a game. \n",
    "Remember that the number of rounds must be odd: 1, 3, 5, ..."
   ]
  },
  {
   "cell_type": "code",
   "execution_count": 3,
   "metadata": {},
   "outputs": [],
   "source": [
    "n_rounds = 3"
   ]
  },
  {
   "cell_type": "markdown",
   "metadata": {},
   "source": [
    "#### 4. Create a variable called `rounds_to_win` to store the number of rounds that a player must win to win the game.\n",
    "**Hint**: the value stored in `rounds_to_win` depends on the value of `n_rounds`. "
   ]
  },
  {
   "cell_type": "code",
   "execution_count": 4,
   "metadata": {},
   "outputs": [],
   "source": [
    "import math\n",
    "rounds_to_win = math.ceil(n_rounds/2)"
   ]
  },
  {
   "cell_type": "markdown",
   "metadata": {},
   "source": [
    "#### 5. Create two variables to store the number of rounds that the computer and the player have won. Call these variables `cpu_score` and `player_score`."
   ]
  },
  {
   "cell_type": "code",
   "execution_count": 5,
   "metadata": {},
   "outputs": [],
   "source": [
    "cpu_score = 0\n",
    "player_score = 0"
   ]
  },
  {
   "cell_type": "markdown",
   "metadata": {},
   "source": [
    "#### 6. Define a function that randomly returns one of the 3 gesture options.\n",
    "You will use this function to simulate the gesture choice of the computer. "
   ]
  },
  {
   "cell_type": "code",
   "execution_count": 6,
   "metadata": {},
   "outputs": [],
   "source": [
    "def cpu(options):\n",
    "    return random.choice(options)"
   ]
  },
  {
   "cell_type": "markdown",
   "metadata": {},
   "source": [
    "#### 7. Define a function that asks the player which is the gesture he or she wants to show: 'rock', 'paper' or 'scissors'.\n",
    "The player should only be allowed to choose one of the 3 gesture options. If the player's choice is not rock, paper or scissors, keep asking until it is."
   ]
  },
  {
   "cell_type": "code",
   "execution_count": 7,
   "metadata": {},
   "outputs": [],
   "source": [
    "def player(options):\n",
    "    choice = input(\"rock, paper or scissors?\").lower()\n",
    "    if choice in options:\n",
    "        return choice\n",
    "    while choice not in options:\n",
    "        choice = input(\"Try again! rock, paper or scissors?\").lower()\n",
    "    return choice"
   ]
  },
  {
   "cell_type": "markdown",
   "metadata": {},
   "source": [
    "#### 8. Define a function that checks who won a round. \n",
    "The function should return 0 if there is a tie, 1 if the computer wins and 2 if the player wins."
   ]
  },
  {
   "cell_type": "code",
   "execution_count": 8,
   "metadata": {},
   "outputs": [],
   "source": [
    "def win(cpu,player):\n",
    "    if cpu == player:\n",
    "        return 0\n",
    "    elif cpu == \"rock\" and player == \"paper\":\n",
    "        return 2\n",
    "    elif cpu == \"rock\" and player == \"scissors\":\n",
    "        return 1\n",
    "    elif cpu == \"paper\" and player == \"scissors\":\n",
    "        return 2\n",
    "    elif cpu == \"paper\" and player == \"rock\":\n",
    "        return 1\n",
    "    elif cpu == \"scissors\" and player == \"rock\":\n",
    "        return 2\n",
    "    elif cpu == \"scissors\" and player == \"paper\":\n",
    "        return 1"
   ]
  },
  {
   "cell_type": "markdown",
   "metadata": {},
   "source": [
    "#### 9. Define a function that prints the choice of the computer, the choice of the player and a message that announces who won the current round. \n",
    "You should also use this function to update the variables that count the number of rounds that the computer and the player have won. The score of the winner increases by one point. If there is a tie, the score does not increase."
   ]
  },
  {
   "cell_type": "code",
   "execution_count": 9,
   "metadata": {},
   "outputs": [],
   "source": [
    "def round():\n",
    "    cpu_choice = cpu(gestures)\n",
    "    player_choice = player(gestures)\n",
    "    winner = win(cpu_choice,player_choice)\n",
    "    global cpu_score\n",
    "    global player_score\n",
    "    print(\"La computadora elije:\",cpu_choice)\n",
    "    print(\"El jugador elije:\",player_choice)\n",
    "    if winner == 0:\n",
    "        print(\"Es un empate\")\n",
    "    elif winner == 1:\n",
    "        print(\"Gana la computadora\")\n",
    "        cpu_score += 1\n",
    "    elif winner == 2:\n",
    "        print(\"Gana el jugador\")\n",
    "        player_score += 1"
   ]
  },
  {
   "cell_type": "markdown",
   "metadata": {},
   "source": [
    "#### 10. Now it's time to code the execution of the game using the functions and variables you defined above. \n",
    "\n",
    "First, create a loop structure that repeats while no player reaches the minimum score necessary to win and the number of rounds is less than the maximum number of rounds to play in a game.  \n",
    "\n",
    "Inside the loop, use the functions and variables above to create the execution of a round: ask for the player's choice, generate the random choice of the computer, show the round results, update the scores, etc. "
   ]
  },
  {
   "cell_type": "code",
   "execution_count": 15,
   "metadata": {},
   "outputs": [],
   "source": [
    "rounds_played = 0\n",
    "\n",
    "while n_rounds != rounds_played:\n",
    "    if cpu_score == rounds_to_win or player_score == rounds_to_win:\n",
    "        break\n",
    "    else:\n",
    "        round()\n",
    "    rounds_played += 1"
   ]
  },
  {
   "cell_type": "markdown",
   "metadata": {},
   "source": [
    "#### 11. Print the winner of the game based on who won more rounds.\n",
    "Remember that the game might be tied. "
   ]
  },
  {
   "cell_type": "code",
   "execution_count": 14,
   "metadata": {},
   "outputs": [
    {
     "name": "stdout",
     "output_type": "stream",
     "text": [
      "Gana el jugador\n"
     ]
    }
   ],
   "source": [
    "if cpu_score == player_score:\n",
    "    print(\"Es un empate\")\n",
    "elif cpu_score > player_score:\n",
    "    print(\"Gana la computadora\")\n",
    "else:\n",
    "    print(\"Gana el jugador\")"
   ]
  },
  {
   "cell_type": "markdown",
   "metadata": {},
   "source": [
    "# Bonus: Rock, Paper, Scissors, Lizard & Spock\n",
    "![](images/rpsls.jpg)\n",
    "\n",
    "In this challenge, you need to improve the previous game by adding two new options. To know more about the rules of the improved version of rock, paper, scissors, check this [link](http://www.samkass.com/theories/RPSSL.html). \n",
    "\n",
    "In addition, you will also need to improve how the game interacts with the player: the number of rounds to play, which must be an odd number, will be requested to the user until a valid number is entered. Define a new function to make that request.\n",
    "\n",
    "**Hint**: Try to reuse the code that you already coded in the previous challenge. If your code is efficient, this bonus will only consist of simple modifications to the original game."
   ]
  },
  {
   "cell_type": "code",
   "execution_count": 6,
   "metadata": {},
   "outputs": [
    {
     "name": "stdout",
     "output_type": "stream",
     "text": [
      "Cuántos rounds quieres jugar?3\n",
      "Qué eliges? rock, paper, scissors, lizard or spock?lizard\n",
      "La computadora elijehj: spock\n",
      "El jugador elije: lizard\n",
      "Gana el jugador\n",
      "Qué eliges? rock, paper, scissors, lizard or spock?asd\n",
      "Intenta otra vez, elige entre: rock, paper, scissors, lizard or spock?lizard\n",
      "La computadora elijehj: rock\n",
      "El jugador elije: lizard\n",
      "Gana la computadora\n",
      "Qué eliges? rock, paper, scissors, lizard or spock?sasd\n",
      "Intenta otra vez, elige entre: rock, paper, scissors, lizard or spock?spock\n",
      "La computadora elijehj: spock\n",
      "El jugador elije: spock\n",
      "Es un empate\n",
      "Termino de todas las rondas: Es un empate\n"
     ]
    }
   ],
   "source": [
    "import random\n",
    "import math\n",
    "\n",
    "gestures = [\"rock\",\"paper\",\"scissors\",\"lizard\",\"spock\"]\n",
    "\n",
    "def numberOfRounds():\n",
    "    number = int(input(\"Cuántas rondas quieres jugar?\"))\n",
    "    while number % 2 == 0:\n",
    "        number = int(input(\"Intenta otra vez, debe ser un número impar:\"))\n",
    "    return number\n",
    "\n",
    "def roundsToWin(number):\n",
    "    rounds = math.ceil(number/2)\n",
    "    return rounds\n",
    "\n",
    "def cpu(options):\n",
    "    return random.choice(options)\n",
    "\n",
    "def player(options):\n",
    "    choice = input(\"Qué eliges? rock, paper, scissors, lizard or spock?\").lower()\n",
    "    if choice in options:\n",
    "        return choice\n",
    "    while choice not in options:\n",
    "        choice = input(\"Intenta otra vez, elige entre: rock, paper, scissors, lizard or spock?\").lower()\n",
    "    return choice\n",
    "\n",
    "def win(cpu,player):\n",
    "    if cpu == player:\n",
    "        return 0\n",
    "    elif cpu == \"rock\" and player == \"paper\":\n",
    "        return 2\n",
    "    elif cpu == \"rock\" and player == \"scissors\":\n",
    "        return 1\n",
    "    elif cpu == \"rock\" and player == \"lizard\":\n",
    "        return 1\n",
    "    elif cpu == \"rock\" and player == \"spock\":\n",
    "        return 2  \n",
    "    elif cpu == \"paper\" and player == \"scissors\":\n",
    "        return 2\n",
    "    elif cpu == \"paper\" and player == \"rock\":\n",
    "        return 1\n",
    "    elif cpu == \"paper\" and player == \"lizard\":\n",
    "        return 2\n",
    "    elif cpu == \"paper\" and player == \"spock\":\n",
    "        return 1\n",
    "    elif cpu == \"scissors\" and player == \"rock\":\n",
    "        return 2\n",
    "    elif cpu == \"scissors\" and player == \"paper\":\n",
    "        return 1\n",
    "    elif cpu == \"scissors\" and player == \"lizard\":\n",
    "        return 1\n",
    "    elif cpu == \"scissors\" and player == \"spock\":\n",
    "        return 2\n",
    "    elif cpu == \"lizard\" and player == \"rock\":\n",
    "        return 2\n",
    "    elif cpu == \"lizard\" and player == \"paper\":\n",
    "        return 1\n",
    "    elif cpu == \"lizard\" and player == \"scissors\":\n",
    "        return 2\n",
    "    elif cpu == \"lizard\" and player == \"spock\":\n",
    "        return 1\n",
    "    elif cpu == \"spock\" and player == \"rock\":\n",
    "        return 1\n",
    "    elif cpu == \"spock\" and player == \"paper\":\n",
    "        return 2\n",
    "    elif cpu == \"spock\" and player == \"scissors\":\n",
    "        return 1\n",
    "    elif cpu == \"spock\" and player == \"lizard\":\n",
    "        return 2\n",
    "\n",
    "cpu_score = 0\n",
    "player_score = 0\n",
    "    \n",
    "def round():\n",
    "    cpu_choice = cpu(gestures)\n",
    "    player_choice = player(gestures)\n",
    "    winner = win(cpu_choice,player_choice)\n",
    "    global cpu_score\n",
    "    global player_score\n",
    "    print(\"La computadora elije:\",cpu_choice)\n",
    "    print(\"El jugador elije:\",player_choice)\n",
    "    if winner == 0:\n",
    "        print(\"Es un empate\")\n",
    "    elif winner == 1:\n",
    "        print(\"Gana la computadora\")\n",
    "        cpu_score += 1\n",
    "    elif winner == 2:\n",
    "        print(\"Gana el jugador\")\n",
    "        player_score += 1\n",
    "        \n",
    "n_rounds = numberOfRounds()\n",
    "rounds_to_win = roundsToWin(n_rounds)\n",
    "rounds_played = 0\n",
    "\n",
    "while n_rounds != rounds_played:\n",
    "    if cpu_score == rounds_to_win or player_score == rounds_to_win:\n",
    "        break\n",
    "    else:\n",
    "        round()\n",
    "    rounds_played += 1\n",
    "\n",
    "if cpu_score == player_score:\n",
    "    print(\"Termino de todas las rondas: Es un empate\")\n",
    "elif cpu_score > player_score:\n",
    "    print(\"Termino de todas las rondas: Gana la computadora\")\n",
    "else:\n",
    "    print(\"Termino de todas las rondas: Gana el jugador\")"
   ]
  },
  {
   "cell_type": "code",
   "execution_count": null,
   "metadata": {},
   "outputs": [],
   "source": []
  }
 ],
 "metadata": {
  "kernelspec": {
   "display_name": "Python 3",
   "language": "python",
   "name": "python3"
  },
  "language_info": {
   "codemirror_mode": {
    "name": "ipython",
    "version": 3
   },
   "file_extension": ".py",
   "mimetype": "text/x-python",
   "name": "python",
   "nbconvert_exporter": "python",
   "pygments_lexer": "ipython3",
   "version": "3.8.3"
  }
 },
 "nbformat": 4,
 "nbformat_minor": 2
}
